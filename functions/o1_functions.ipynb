{
 "cells": [
  {
   "cell_type": "markdown",
   "metadata": {},
   "source": [
    "![alt text](image.png)"
   ]
  },
  {
   "cell_type": "code",
   "execution_count": 2,
   "metadata": {},
   "outputs": [
    {
     "name": "stdout",
     "output_type": "stream",
     "text": [
      "knock knock knock Prince\n",
      "knock knock knock Prince\n",
      "knock knock knock Prince\n",
      "0\n",
      "1\n",
      "2\n",
      "3\n",
      "4\n",
      "5\n",
      "6\n",
      "7\n",
      "8\n",
      "9\n",
      "knock knock knock Prince\n",
      "knock knock knock Prince\n",
      "knock knock knock Prince\n"
     ]
    }
   ],
   "source": [
    "print(\"knock knock knock Prince\")\n",
    "print(\"knock knock knock Prince\")\n",
    "print(\"knock knock knock Prince\")\n",
    "\n",
    "for i in range(10):\n",
    "    print(i)\n",
    "\n",
    "print(\"knock knock knock Prince\")\n",
    "print(\"knock knock knock Prince\")\n",
    "print(\"knock knock knock Prince\")"
   ]
  },
  {
   "cell_type": "code",
   "execution_count": 3,
   "metadata": {},
   "outputs": [],
   "source": [
    "def sheldon_knock():\n",
    "    print(\"knock knock knock Prince\")\n",
    "    print(\"knock knock knock Prince\")\n",
    "    print(\"knock knock knock Prince\")\n",
    "\n",
    "    "
   ]
  },
  {
   "cell_type": "code",
   "execution_count": 4,
   "metadata": {},
   "outputs": [
    {
     "name": "stdout",
     "output_type": "stream",
     "text": [
      "30\n",
      "0\n",
      "1\n",
      "2\n",
      "3\n",
      "4\n",
      "5\n",
      "6\n",
      "7\n",
      "8\n",
      "9\n",
      "knock knock knock Prince\n",
      "knock knock knock Prince\n",
      "knock knock knock\n"
     ]
    }
   ],
   "source": [
    "print(10+20)\n",
    "\n",
    "for i in range(10):\n",
    "    print(i)\n",
    "sheldon_knock()"
   ]
  },
  {
   "cell_type": "markdown",
   "metadata": {},
   "source": [
    "## Functions can take Parameter"
   ]
  },
  {
   "cell_type": "code",
   "execution_count": 11,
   "metadata": {},
   "outputs": [],
   "source": [
    "# def sheldon_knock(name):\n",
    "#     print(f\"knock knock knock {name}\")\n",
    "#     print(f\"knock knock knock {name}\")\n",
    "#     print(f\"knock knock knock {name}\")\n",
    "\n",
    "# Can also give default parameter\n",
    "def sheldon_knock(name, number_of_time=3):\n",
    "    for i in range(number_of_time):\n",
    "        print(f\"knock knock knock {name}\")\n",
    "    "
   ]
  },
  {
   "cell_type": "code",
   "execution_count": 13,
   "metadata": {},
   "outputs": [
    {
     "name": "stdout",
     "output_type": "stream",
     "text": [
      "knock knock knock Prince\n",
      "knock knock knock Prince\n",
      "knock knock knock Prince\n",
      "knock knock knock Prince\n",
      "knock knock knock Prince\n",
      "knock knock knock Prince\n",
      "knock knock knock Prince\n",
      "knock knock knock Prince\n",
      "knock knock knock Prince\n",
      "knock knock knock Prince\n"
     ]
    }
   ],
   "source": [
    "# print(10+20)\n",
    "\n",
    "# for i in range(5):\n",
    "#     print(i)\n",
    "\n",
    "# sheldon_knock(\"Prince\")\n",
    "\n",
    "\n",
    "#with number of time\n",
    "\n",
    "sheldon_knock(\"Prince\", 10)"
   ]
  },
  {
   "cell_type": "markdown",
   "metadata": {},
   "source": [
    "### Return Statement"
   ]
  },
  {
   "cell_type": "code",
   "execution_count": 19,
   "metadata": {},
   "outputs": [],
   "source": [
    "def add(a,b):\n",
    "    return a+b"
   ]
  },
  {
   "cell_type": "code",
   "execution_count": 20,
   "metadata": {},
   "outputs": [
    {
     "data": {
      "text/plain": [
       "3"
      ]
     },
     "execution_count": 20,
     "metadata": {},
     "output_type": "execute_result"
    }
   ],
   "source": [
    "add(1,2)"
   ]
  },
  {
   "cell_type": "code",
   "execution_count": 22,
   "metadata": {},
   "outputs": [
    {
     "name": "stdout",
     "output_type": "stream",
     "text": [
      "3\n"
     ]
    }
   ],
   "source": [
    "# if i store the value of functions\n",
    "\n",
    "x = add(1,2)\n",
    "print(x)"
   ]
  },
  {
   "cell_type": "markdown",
   "metadata": {},
   "source": [
    "### Local and Global Variables"
   ]
  },
  {
   "cell_type": "code",
   "execution_count": 31,
   "metadata": {},
   "outputs": [],
   "source": [
    "x = 10\n",
    "def show():\n",
    "    global x\n",
    "    y='local'\n",
    "    x+=5\n",
    "    print(x)\n"
   ]
  },
  {
   "cell_type": "code",
   "execution_count": 32,
   "metadata": {},
   "outputs": [
    {
     "name": "stdout",
     "output_type": "stream",
     "text": [
      "15\n",
      "15\n"
     ]
    },
    {
     "ename": "NameError",
     "evalue": "name 'y' is not defined",
     "output_type": "error",
     "traceback": [
      "\u001b[1;31m---------------------------------------------------------------------------\u001b[0m",
      "\u001b[1;31mNameError\u001b[0m                                 Traceback (most recent call last)",
      "Cell \u001b[1;32mIn[32], line 3\u001b[0m\n\u001b[0;32m      1\u001b[0m show()\n\u001b[0;32m      2\u001b[0m \u001b[38;5;28mprint\u001b[39m(x)\n\u001b[1;32m----> 3\u001b[0m \u001b[38;5;28mprint\u001b[39m(\u001b[43my\u001b[49m)\n",
      "\u001b[1;31mNameError\u001b[0m: name 'y' is not defined"
     ]
    }
   ],
   "source": [
    "show()\n",
    "print(x)\n",
    "print(y)"
   ]
  },
  {
   "cell_type": "code",
   "execution_count": 35,
   "metadata": {},
   "outputs": [],
   "source": [
    "#Functions inside functions\n",
    "\n",
    "\n",
    "##Enclosures\n",
    "def outer():\n",
    "    x = \"local\"\n",
    "    def inner():\n",
    "        print(x)\n",
    "    inner()\n",
    "    print(x)"
   ]
  },
  {
   "cell_type": "code",
   "execution_count": 36,
   "metadata": {},
   "outputs": [
    {
     "name": "stdout",
     "output_type": "stream",
     "text": [
      "local\n",
      "local\n"
     ]
    }
   ],
   "source": [
    "outer()"
   ]
  },
  {
   "cell_type": "code",
   "execution_count": 41,
   "metadata": {},
   "outputs": [],
   "source": [
    "del x"
   ]
  },
  {
   "cell_type": "code",
   "execution_count": 44,
   "metadata": {},
   "outputs": [],
   "source": [
    "def outer():\n",
    "    x=10\n",
    "    def inner():\n",
    "        nonlocal x\n",
    "        x+=5\n",
    "        print(x)\n",
    "    inner()\n",
    "    print(x)"
   ]
  },
  {
   "cell_type": "code",
   "execution_count": 45,
   "metadata": {},
   "outputs": [
    {
     "name": "stdout",
     "output_type": "stream",
     "text": [
      "15\n",
      "15\n"
     ]
    }
   ],
   "source": [
    "outer()"
   ]
  },
  {
   "cell_type": "markdown",
   "metadata": {},
   "source": [
    "## Default Arguments Values"
   ]
  },
  {
   "cell_type": "code",
   "execution_count": null,
   "metadata": {},
   "outputs": [],
   "source": [
    "def abc(a, b , c , d=10, e=20)"
   ]
  },
  {
   "cell_type": "code",
   "execution_count": 50,
   "metadata": {},
   "outputs": [],
   "source": [
    "def show(a,b,c, d=\"Something\", e=\"something more\"):\n",
    "    print(a)\n",
    "    print(b)\n",
    "    print(c)\n",
    "    print(d)\n",
    "    print(e)"
   ]
  },
  {
   "cell_type": "code",
   "execution_count": 51,
   "metadata": {},
   "outputs": [
    {
     "name": "stdout",
     "output_type": "stream",
     "text": [
      "Python\n",
      "hello\n",
      "world\n",
      "Something\n",
      "prince\n"
     ]
    }
   ],
   "source": [
    "#Keyworded arguments\n",
    "show(b=\"hello\", c =\"world\", a = \"Python\", e=\"prince\")"
   ]
  },
  {
   "cell_type": "code",
   "execution_count": 53,
   "metadata": {},
   "outputs": [
    {
     "name": "stdout",
     "output_type": "stream",
     "text": [
      "Prince Hardeep Python 7\n"
     ]
    }
   ],
   "source": [
    "# Packing of arguments\n",
    "print(\"Prince\", \"Hardeep\", \"Python\",7)"
   ]
  },
  {
   "cell_type": "markdown",
   "metadata": {},
   "source": [
    "#### Positional arguments"
   ]
  },
  {
   "cell_type": "code",
   "execution_count": 54,
   "metadata": {},
   "outputs": [],
   "source": [
    "#Positional arguments\n",
    "\n",
    "#def show (a,b,c, *args)\n",
    "def show(*args):\n",
    "    print(args) "
   ]
  },
  {
   "cell_type": "code",
   "execution_count": 56,
   "metadata": {},
   "outputs": [
    {
     "name": "stdout",
     "output_type": "stream",
     "text": [
      "(1, 2, 3, 'Prince')\n"
     ]
    }
   ],
   "source": [
    "show(1,2,3,\"Prince\")"
   ]
  },
  {
   "cell_type": "markdown",
   "metadata": {},
   "source": [
    "## Keyword arguments"
   ]
  },
  {
   "cell_type": "code",
   "execution_count": 3,
   "metadata": {},
   "outputs": [],
   "source": [
    "def show(a,b,c, *args, d=10, e=20, **kwargs):\n",
    "    print(a)\n",
    "    print(args)\n",
    "    print(kwargs)\n",
    "    print(d)"
   ]
  },
  {
   "cell_type": "code",
   "execution_count": 4,
   "metadata": {},
   "outputs": [
    {
     "name": "stdout",
     "output_type": "stream",
     "text": [
      "1\n",
      "('Prince', 'sensation')\n",
      "{'name': 'hello'}\n",
      "100\n"
     ]
    }
   ],
   "source": [
    "show(1,2,3,\"Prince\",\"sensation\", d=100, name=\"hello\")"
   ]
  },
  {
   "cell_type": "markdown",
   "metadata": {},
   "source": [
    "# Lambda Functions\n",
    "    Syntactical Sugars"
   ]
  },
  {
   "cell_type": "code",
   "execution_count": 5,
   "metadata": {},
   "outputs": [],
   "source": [
    "def add():\n",
    "    return 10+10"
   ]
  },
  {
   "cell_type": "code",
   "execution_count": 7,
   "metadata": {},
   "outputs": [],
   "source": [
    "add = lambda  a, b: a+b"
   ]
  },
  {
   "cell_type": "code",
   "execution_count": 9,
   "metadata": {},
   "outputs": [
    {
     "name": "stdout",
     "output_type": "stream",
     "text": [
      "<function <lambda> at 0x0000015761BB4CC0>\n"
     ]
    },
    {
     "data": {
      "text/plain": [
       "5"
      ]
     },
     "execution_count": 9,
     "metadata": {},
     "output_type": "execute_result"
    }
   ],
   "source": [
    "print(add)\n",
    "\n",
    "add(2,3)"
   ]
  },
  {
   "cell_type": "code",
   "execution_count": 10,
   "metadata": {},
   "outputs": [
    {
     "data": {
      "text/plain": [
       "[3, 4, 5, 6, 10, 20]"
      ]
     },
     "execution_count": 10,
     "metadata": {},
     "output_type": "execute_result"
    }
   ],
   "source": [
    "#List with random functions\n",
    "\n",
    "\n",
    "a = [10,20,3,4,5,6]\n",
    "\n",
    "sorted(a)"
   ]
  },
  {
   "cell_type": "code",
   "execution_count": 12,
   "metadata": {},
   "outputs": [
    {
     "data": {
      "text/plain": [
       "[('Hello', 2), ('Prince', 10), ('Hardeep', 20)]"
      ]
     },
     "execution_count": 12,
     "metadata": {},
     "output_type": "execute_result"
    }
   ],
   "source": [
    "name_age = [(\"Prince\",10), (\"Hardeep\", 20), (\"Hello\", 2)]\n",
    "sorted(name_age)\n",
    "# sorted(name_age, key=lambda x: x[1])"
   ]
  },
  {
   "cell_type": "code",
   "execution_count": null,
   "metadata": {},
   "outputs": [],
   "source": []
  },
  {
   "cell_type": "code",
   "execution_count": null,
   "metadata": {},
   "outputs": [],
   "source": []
  }
 ],
 "metadata": {
  "kernelspec": {
   "display_name": "Python 3",
   "language": "python",
   "name": "python3"
  },
  "language_info": {
   "codemirror_mode": {
    "name": "ipython",
    "version": 3
   },
   "file_extension": ".py",
   "mimetype": "text/x-python",
   "name": "python",
   "nbconvert_exporter": "python",
   "pygments_lexer": "ipython3",
   "version": "3.12.3"
  }
 },
 "nbformat": 4,
 "nbformat_minor": 2
}
