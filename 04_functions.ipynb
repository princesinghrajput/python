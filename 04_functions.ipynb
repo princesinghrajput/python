{
 "cells": [
  {
   "cell_type": "code",
   "execution_count": 26,
   "metadata": {},
   "outputs": [
    {
     "name": "stdout",
     "output_type": "stream",
     "text": [
      "Prince\n"
     ]
    }
   ],
   "source": [
    "# def print_hello():\n",
    "#     print(\"Hello World\")    \n",
    "#     print(\"Hello World\")\n",
    "\n",
    "\n",
    "def print_name ():\n",
    "    print(\"Prince\")\n",
    "\n",
    "print_name()\n"
   ]
  },
  {
   "cell_type": "markdown",
   "metadata": {},
   "source": [
    "    Functions can take Parameters"
   ]
  },
  {
   "cell_type": "code",
   "execution_count": 33,
   "metadata": {},
   "outputs": [
    {
     "name": "stdout",
     "output_type": "stream",
     "text": [
      "Knock knowk knock 26, Prince\n"
     ]
    }
   ],
   "source": [
    "def sheldon_knock(name, age):\n",
    "    # print(name + \" knock knock\")\n",
    "    # print(name + \" who's there?\")\n",
    "    # print(name + \" knock knock\")\n",
    "\n",
    "\n",
    "    print(\"Knock knowk knock {1}, {0}\" .format(name, age))\n",
    "\n",
    "\n",
    "sheldon_knock(\"Prince\", 26)"
   ]
  },
  {
   "cell_type": "code",
   "execution_count": null,
   "metadata": {},
   "outputs": [],
   "source": [
    "def sheldon_knock(name, number_of_time ):\n",
    "    for i in range(number_of_time):\n",
    "        print(\"Hello {}\".format(name))\n",
    "\n",
    "sheldon_knock(\"Prince\", 100)"
   ]
  },
  {
   "cell_type": "markdown",
   "metadata": {},
   "source": [
    "    Giving default parameters"
   ]
  },
  {
   "cell_type": "code",
   "execution_count": null,
   "metadata": {},
   "outputs": [],
   "source": [
    "def sheldon_knock(name, number_of_time=3 ):\n",
    "    for i in range(number_of_time):\n",
    "        print(\"Hello {}\".format(name))\n",
    "\n",
    "sheldon_knock(\"Prince\", 100)"
   ]
  },
  {
   "cell_type": "markdown",
   "metadata": {},
   "source": [
    "    Return Statements"
   ]
  },
  {
   "cell_type": "code",
   "execution_count": 82,
   "metadata": {},
   "outputs": [
    {
     "name": "stdout",
     "output_type": "stream",
     "text": [
      "11\n",
      "9\n",
      "11\n"
     ]
    }
   ],
   "source": [
    "global a\n",
    "a=10\n",
    "\n",
    "def add():\n",
    "    \n",
    "    a=9\n",
    "\n",
    "    globals()['a'] = 2+a\n",
    "\n",
    "\n",
    "    print(globals()['a'])\n",
    "    \n",
    "    print(a)\n",
    "\n",
    "add()\n",
    "\n",
    "print(a)\n",
    "\n"
   ]
  },
  {
   "cell_type": "code",
   "execution_count": 44,
   "metadata": {},
   "outputs": [
    {
     "name": "stdout",
     "output_type": "stream",
     "text": [
      "5\n"
     ]
    }
   ],
   "source": [
    "def add(a,b):\n",
    "   return a+b\n",
    "\n",
    "x = add(2,3)\n",
    "\n",
    "print(x)\n",
    "\n"
   ]
  },
  {
   "cell_type": "code",
   "execution_count": 84,
   "metadata": {},
   "outputs": [
    {
     "name": "stdout",
     "output_type": "stream",
     "text": [
      "Finally\n"
     ]
    },
    {
     "data": {
      "text/plain": [
       "float"
      ]
     },
     "execution_count": 84,
     "metadata": {},
     "output_type": "execute_result"
    }
   ],
   "source": [
    "def division(a,b):\n",
    "    try:\n",
    "        print(a/b)\n",
    "    except : print(\"Error\")\n",
    "    else: \n",
    "        print(\"Else block\")\n",
    "    finally:\n",
    "        print(\"Finally\")\n",
    "    \n",
    "\n",
    "division(10, 2)\n"
   ]
  }
 ],
 "metadata": {
  "kernelspec": {
   "display_name": "Python 3",
   "language": "python",
   "name": "python3"
  },
  "language_info": {
   "codemirror_mode": {
    "name": "ipython",
    "version": 3
   },
   "file_extension": ".py",
   "mimetype": "text/x-python",
   "name": "python",
   "nbconvert_exporter": "python",
   "pygments_lexer": "ipython3",
   "version": "3.12.3"
  }
 },
 "nbformat": 4,
 "nbformat_minor": 2
}
