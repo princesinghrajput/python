{
 "cells": [
  {
   "cell_type": "code",
   "execution_count": 5,
   "metadata": {},
   "outputs": [
    {
     "name": "stdout",
     "output_type": "stream",
     "text": [
      "Hello world\n"
     ]
    }
   ],
   "source": [
    "\n",
    "#writing hello world code\n",
    "\n",
    "#comments\n",
    "\n",
    "\n",
    "\n",
    "print(\"Hello world\")"
   ]
  },
  {
   "cell_type": "code",
   "execution_count": 7,
   "metadata": {},
   "outputs": [
    {
     "data": {
      "text/plain": [
       "' \\nthis is an examples of multiline comments\\n\\n'"
      ]
     },
     "execution_count": 7,
     "metadata": {},
     "output_type": "execute_result"
    }
   ],
   "source": [
    "''' \n",
    "this is an examples of multiline comments\n",
    "\n",
    "'''"
   ]
  },
  {
   "cell_type": "markdown",
   "metadata": {},
   "source": [
    "Literal constants"
   ]
  },
  {
   "cell_type": "code",
   "execution_count": 10,
   "metadata": {},
   "outputs": [
    {
     "data": {
      "text/plain": [
       "int"
      ]
     },
     "execution_count": 10,
     "metadata": {},
     "output_type": "execute_result"
    }
   ],
   "source": [
    "#integer number\n",
    "a=5\n",
    "type(a)"
   ]
  },
  {
   "cell_type": "code",
   "execution_count": 11,
   "metadata": {},
   "outputs": [
    {
     "data": {
      "text/plain": [
       "complex"
      ]
     },
     "execution_count": 11,
     "metadata": {},
     "output_type": "execute_result"
    }
   ],
   "source": [
    "#complex number\n",
    "a= 1+5j\n",
    "type(a)"
   ]
  },
  {
   "cell_type": "code",
   "execution_count": 15,
   "metadata": {},
   "outputs": [
    {
     "data": {
      "text/plain": [
       "str"
      ]
     },
     "execution_count": 15,
     "metadata": {},
     "output_type": "execute_result"
    }
   ],
   "source": [
    "#String \n",
    "a= \"Hey ! I am Prince!\"\n",
    "b='a'\n",
    "type(a)\n",
    "type(b)"
   ]
  },
  {
   "cell_type": "code",
   "execution_count": 17,
   "metadata": {},
   "outputs": [
    {
     "name": "stdout",
     "output_type": "stream",
     "text": [
      "python\n",
      "this is a \n",
      "multi line strings \n",
      "this is a \n",
      "multi line strings \n"
     ]
    }
   ],
   "source": [
    "#single quotes\n",
    "a = 'python'\n",
    "print(a)\n",
    "\n",
    "#multi line string in single triple quotes\n",
    "a= '''this is a \n",
    "multi line strings '''\n",
    "print(a)\n",
    "\n",
    "#multi line string in double triple quotes\n",
    "\n",
    "a= \"\"\"this is a \n",
    "multi line strings \"\"\"\n",
    "print(a)"
   ]
  },
  {
   "cell_type": "markdown",
   "metadata": {},
   "source": []
  },
  {
   "cell_type": "markdown",
   "metadata": {},
   "source": [
    "Variables: \n",
    "\n",
    "● One of the most powerful features of a programming language is the ability to \n",
    "manipulate variables​. \n",
    "\n",
    "\n",
    "● A variable is a name that refers to a value.  \n",
    "\n",
    "● It is the memory location to stored values. \n",
    "\n",
    "● Variable assignment using ‘=’ operator. \n",
    "\n",
    "\n",
    "A variable is a  type of identifier\n",
    " Rules for naming identifiers: \n",
    "\n",
    "● The first character of the identifier must be a letter of the alphabet (uppercase ASCII or \n",
    "lowercase ASCII or Unicode character) or an underscore (_). \n",
    "\n",
    "\n",
    "● The rest of the identifier name can consist of letters (uppercase ASCII or lowercase \n",
    "ASCII or Unicode character), underscores (_) or digits (0-9). \n",
    "\n",
    "\n",
    "● Identifier names are case-sensitive. For example, myname and myName are not the \n",
    "same. \n",
    "\n",
    "Note the lowercase n in the former and the uppercase N in the latter. \n",
    "Examples of valid identifier names are i, name_2_3. \n",
    "\n",
    "\n",
    "Examples of invalid identifier names are 2things, this is spaced out, my-name and >a1b2_c3. "
   ]
  },
  {
   "cell_type": "code",
   "execution_count": 22,
   "metadata": {},
   "outputs": [
    {
     "ename": "SyntaxError",
     "evalue": "invalid decimal literal (418539466.py, line 6)",
     "output_type": "error",
     "traceback": [
      "\u001b[1;36m  Cell \u001b[1;32mIn[22], line 6\u001b[1;36m\u001b[0m\n\u001b[1;33m    2thing=10\u001b[0m\n\u001b[1;37m    ^\u001b[0m\n\u001b[1;31mSyntaxError\u001b[0m\u001b[1;31m:\u001b[0m invalid decimal literal\n"
     ]
    }
   ],
   "source": [
    "_abc =123\n",
    "i=10\n",
    "\n",
    "name_2_3 =20\n",
    "\n",
    "2thing=10\n",
    "\n",
    "&abc=23"
   ]
  },
  {
   "cell_type": "code",
   "execution_count": 1,
   "metadata": {},
   "outputs": [
    {
     "name": "stdout",
     "output_type": "stream",
     "text": [
      "hello\n"
     ]
    }
   ],
   "source": [
    "print(\"hello\")"
   ]
  },
  {
   "cell_type": "code",
   "execution_count": 2,
   "metadata": {},
   "outputs": [
    {
     "name": "stdout",
     "output_type": "stream",
     "text": [
      "30\n"
     ]
    }
   ],
   "source": [
    "from main import add\n",
    "\n",
    "print(add(10,20))"
   ]
  },
  {
   "cell_type": "markdown",
   "metadata": {},
   "source": [
    "Control"
   ]
  },
  {
   "cell_type": "markdown",
   "metadata": {},
   "source": []
  }
 ],
 "metadata": {
  "kernelspec": {
   "display_name": "Python 3",
   "language": "python",
   "name": "python3"
  },
  "language_info": {
   "codemirror_mode": {
    "name": "ipython",
    "version": 3
   },
   "file_extension": ".py",
   "mimetype": "text/x-python",
   "name": "python",
   "nbconvert_exporter": "python",
   "pygments_lexer": "ipython3",
   "version": "3.12.3"
  }
 },
 "nbformat": 4,
 "nbformat_minor": 2
}
