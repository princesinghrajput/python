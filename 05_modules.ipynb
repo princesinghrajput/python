{
 "cells": [
  {
   "cell_type": "markdown",
   "metadata": {},
   "source": [
    "Importing from main.py"
   ]
  },
  {
   "cell_type": "code",
   "execution_count": 7,
   "metadata": {},
   "outputs": [
    {
     "name": "stdout",
     "output_type": "stream",
     "text": [
      "5\n",
      "1\n",
      "6\n",
      "1.5\n"
     ]
    }
   ],
   "source": [
    "import main\n",
    "\n",
    "print(main.add(2,3))\n",
    "print(main.sub(3,2))\n",
    "print(main.mul(3,2))\n",
    "print(main.div(3,2))"
   ]
  },
  {
   "cell_type": "markdown",
   "metadata": {},
   "source": [
    "    Another way to import by specifying what methods want to be imported from modules\n",
    "    "
   ]
  },
  {
   "cell_type": "code",
   "execution_count": 7,
   "metadata": {},
   "outputs": [
    {
     "name": "stdout",
     "output_type": "stream",
     "text": [
      "5\n",
      "-1\n",
      "30\n",
      "0.8333333333333334\n"
     ]
    }
   ],
   "source": [
    "from calculator import add, sub, mul, div\n",
    "\n",
    "print(add(2,3))\n",
    "print(sub(5,6))\n",
    "print(mul(5,6))\n",
    "print(div(5,6))"
   ]
  },
  {
   "cell_type": "markdown",
   "metadata": {},
   "source": [
    "    Globally import every definition at once"
   ]
  },
  {
   "cell_type": "code",
   "execution_count": 8,
   "metadata": {},
   "outputs": [
    {
     "name": "stdout",
     "output_type": "stream",
     "text": [
      "{'__name__': '__main__', '__doc__': 'Automatically created module for IPython interactive environment', '__package__': None, '__loader__': None, '__spec__': None, '__builtin__': <module 'builtins' (built-in)>, '__builtins__': <module 'builtins' (built-in)>, '_ih': ['', 'import main\\n\\nprint(main.add(2,3))\\nprint(main.sub(3,2))\\nprint(main.mul(3,2))\\nprint(main.div(3,2))', 'import calculator\\n\\nprint(main.add(2,3))\\nprint(main.sub(3,2))\\nprint(main.mul(3,2))\\nprint(main.div(3,2))', 'import calculator\\n\\nprint(calculator.add(2,3))\\nprint(main.sub(3,2))\\nprint(main.mul(3,2))\\nprint(main.div(3,2))', 'import calculator\\n\\nprint(calculator.add(2,3))\\n# print(main.sub(3,2))\\n# print(main.mul(3,2))\\n# print(main.div(3,2))', 'import calculator\\n\\nprint(calculator.add(2,3))\\nprint(main.sub(3,2))\\nprint(main.mul(3,2))\\nprint(main.div(3,2))', 'import calculator\\n\\nprint(calculator.add(2,3))\\nprint(main.sub(3,2))\\nprint(main.mul(3,2))\\nprint(main.div(3,2))', 'import main\\n\\nprint(main.add(2,3))\\nprint(main.sub(3,2))\\nprint(main.mul(3,2))\\nprint(main.div(3,2))', 'from calculator import *  #not a good practices\\n\\nprint(globals())   # will show all the global variables\\nprint(add(2,3))'], '_oh': {}, '_dh': [WindowsPath('c:/Users/AVITA/Documents/python-class'), WindowsPath('c:/Users/AVITA/Documents/python-class')], 'In': ['', 'import main\\n\\nprint(main.add(2,3))\\nprint(main.sub(3,2))\\nprint(main.mul(3,2))\\nprint(main.div(3,2))', 'import calculator\\n\\nprint(main.add(2,3))\\nprint(main.sub(3,2))\\nprint(main.mul(3,2))\\nprint(main.div(3,2))', 'import calculator\\n\\nprint(calculator.add(2,3))\\nprint(main.sub(3,2))\\nprint(main.mul(3,2))\\nprint(main.div(3,2))', 'import calculator\\n\\nprint(calculator.add(2,3))\\n# print(main.sub(3,2))\\n# print(main.mul(3,2))\\n# print(main.div(3,2))', 'import calculator\\n\\nprint(calculator.add(2,3))\\nprint(main.sub(3,2))\\nprint(main.mul(3,2))\\nprint(main.div(3,2))', 'import calculator\\n\\nprint(calculator.add(2,3))\\nprint(main.sub(3,2))\\nprint(main.mul(3,2))\\nprint(main.div(3,2))', 'import main\\n\\nprint(main.add(2,3))\\nprint(main.sub(3,2))\\nprint(main.mul(3,2))\\nprint(main.div(3,2))', 'from calculator import *  #not a good practices\\n\\nprint(globals())   # will show all the global variables\\nprint(add(2,3))'], 'Out': {}, 'get_ipython': <bound method InteractiveShell.get_ipython of <ipykernel.zmqshell.ZMQInteractiveShell object at 0x0000019C0F662C30>>, 'exit': <IPython.core.autocall.ZMQExitAutocall object at 0x0000019C10A22930>, 'quit': <IPython.core.autocall.ZMQExitAutocall object at 0x0000019C10A22930>, 'open': <function open at 0x0000019C0EB16200>, '_': '', '__': '', '___': '', '__vsc_ipynb_file__': 'c:\\\\Users\\\\AVITA\\\\Documents\\\\python-class\\\\05_modules.ipynb', '_i': 'import main\\n\\nprint(main.add(2,3))\\nprint(main.sub(3,2))\\nprint(main.mul(3,2))\\nprint(main.div(3,2))', '_ii': 'import calculator\\n\\nprint(calculator.add(2,3))\\nprint(main.sub(3,2))\\nprint(main.mul(3,2))\\nprint(main.div(3,2))', '_iii': 'import calculator\\n\\nprint(calculator.add(2,3))\\nprint(main.sub(3,2))\\nprint(main.mul(3,2))\\nprint(main.div(3,2))', '_i1': 'import main\\n\\nprint(main.add(2,3))\\nprint(main.sub(3,2))\\nprint(main.mul(3,2))\\nprint(main.div(3,2))', '_i2': 'import calculator\\n\\nprint(main.add(2,3))\\nprint(main.sub(3,2))\\nprint(main.mul(3,2))\\nprint(main.div(3,2))', 'calculator': <module 'calculator' from 'c:\\\\Users\\\\AVITA\\\\Documents\\\\python-class\\\\calculator.py'>, '_i3': 'import calculator\\n\\nprint(calculator.add(2,3))\\nprint(main.sub(3,2))\\nprint(main.mul(3,2))\\nprint(main.div(3,2))', '_i4': 'import calculator\\n\\nprint(calculator.add(2,3))\\n# print(main.sub(3,2))\\n# print(main.mul(3,2))\\n# print(main.div(3,2))', '_i5': 'import calculator\\n\\nprint(calculator.add(2,3))\\nprint(main.sub(3,2))\\nprint(main.mul(3,2))\\nprint(main.div(3,2))', '_i6': 'import calculator\\n\\nprint(calculator.add(2,3))\\nprint(main.sub(3,2))\\nprint(main.mul(3,2))\\nprint(main.div(3,2))', '_i7': 'import main\\n\\nprint(main.add(2,3))\\nprint(main.sub(3,2))\\nprint(main.mul(3,2))\\nprint(main.div(3,2))', 'main': <module 'main' from 'c:\\\\Users\\\\AVITA\\\\Documents\\\\python-class\\\\main.py'>, '_i8': 'from calculator import *  #not a good practices\\n\\nprint(globals())   # will show all the global variables\\nprint(add(2,3))', 'add': <function add at 0x0000019C10B12840>, 'sub': <function sub at 0x0000019C10B11F80>, 'mul': <function mul at 0x0000019C10B125C0>, 'div': <function div at 0x0000019C10B12200>}\n",
      "5\n"
     ]
    }
   ],
   "source": [
    "from calculator import *  #not a good practices\n",
    "\n",
    "print(globals())   # will show all the global variables\n",
    "print(add(2,3))"
   ]
  },
  {
   "cell_type": "markdown",
   "metadata": {},
   "source": [
    "    If having large no. of definitions can be imported like  this for better readability"
   ]
  },
  {
   "cell_type": "code",
   "execution_count": 8,
   "metadata": {},
   "outputs": [
    {
     "name": "stdout",
     "output_type": "stream",
     "text": [
      "5\n",
      "-1\n",
      "30\n",
      "0.8333333333333334\n"
     ]
    }
   ],
   "source": [
    "from calculator import (\n",
    "    add, \n",
    "    sub,\n",
    "    mul,\n",
    "    div)\n",
    "\n",
    "print(add(2,3))\n",
    "print(sub(5,6))\n",
    "print(mul(5,6))\n",
    "print(div(5,6))"
   ]
  },
  {
   "cell_type": "markdown",
   "metadata": {},
   "source": [
    "    same name of definitions as imported definitions"
   ]
  },
  {
   "cell_type": "code",
   "execution_count": 20,
   "metadata": {},
   "outputs": [
    {
     "name": "stdout",
     "output_type": "stream",
     "text": [
      "2 3\n",
      "5\n"
     ]
    }
   ],
   "source": [
    "# import calculator\n",
    "\n",
    "def calculator (a,b):\n",
    "    print(a,b)\n",
    "\n",
    "calculator (2,3)\n",
    "\n",
    "# to resolve this issues\n",
    "\n",
    "import calculator as lib   #Alias\n",
    "print(lib.add(2,3))"
   ]
  },
  {
   "cell_type": "markdown",
   "metadata": {},
   "source": [
    "    We can also use alias as :"
   ]
  },
  {
   "cell_type": "code",
   "execution_count": 22,
   "metadata": {},
   "outputs": [
    {
     "name": "stdout",
     "output_type": "stream",
     "text": [
      "5\n",
      "-1\n"
     ]
    }
   ],
   "source": [
    "from calculator import (\n",
    "    add as addition,\n",
    "    sub as subtraction,\n",
    "\n",
    ")\n",
    "\n",
    "\n",
    "print(addition(2,3))\n",
    "print(subtraction(5,6))"
   ]
  },
  {
   "cell_type": "code",
   "execution_count": null,
   "metadata": {},
   "outputs": [],
   "source": []
  }
 ],
 "metadata": {
  "kernelspec": {
   "display_name": "Python 3",
   "language": "python",
   "name": "python3"
  },
  "language_info": {
   "codemirror_mode": {
    "name": "ipython",
    "version": 3
   },
   "file_extension": ".py",
   "mimetype": "text/x-python",
   "name": "python",
   "nbconvert_exporter": "python",
   "pygments_lexer": "ipython3",
   "version": "3.12.3"
  }
 },
 "nbformat": 4,
 "nbformat_minor": 2
}
